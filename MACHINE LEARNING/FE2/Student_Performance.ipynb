{
 "cells": [
  {
   "cell_type": "markdown",
   "metadata": {},
   "source": [
    "# Student Performance Dataset\n",
    "## Task Overview\n",
    "In this lab activity, your task is to build a Linear Regression model using a subset of data points from the Student Performance data. The following are the specific sub-tasks you must accomplish.\n",
    "\n",
    "1. **Load the Data** \n",
    "- Load the provided Student Performance data in your Jupyter Notebook.\n",
    "2. **Select a Unique Randomization Seed** \n",
    "- Select a unique integer that will serve as the seed for your randomization.\n",
    "3. **Sample Train Data** \n",
    "- Randomly sample a subset of the data using the seed you have selected; limit the sample to 30. Ensure that your sampled data is representative of the population.\n",
    "4. **Weight Update Function** \n",
    "- Build a weight update function following the Gradient Descent concept.\n",
    "5. **Display the Values of Weights** \n",
    "- Print the values of weights at each iteration separated by individual cell.\n",
    "6. **Plot the Value of Weights** \n",
    "- Display a line chart showing the variation of weight values per iteration. Per each weight, show an individual line chart of values against iteration.\n",
    "7. **Build a Function for the Final Regression Model** \n",
    "- Create a function using the final regression model after all your iterations. Display the mathematical expression with all the final weights values multiplied by the input variables.\n",
    "8. **Sample Test Data** \n",
    "- From the remainder of the original dataset, randomly sample another set of 30 observations NOT present in your training sample.\n",
    "9. **Use the Regression Function for Prediction** \n",
    "- Use your built linear regression function to predict for the Target Variable in your test set.\n",
    "10. **Calculate for Errors** \n",
    "- Calculate for the overall error between your model’s prediction and the actual values in the test set.\n",
    "\n",
    "The final deliverable will include your code implementation divided into sections according to above subtasks."
   ]
  },
  {
   "cell_type": "markdown",
   "metadata": {},
   "source": [
    "## Dataset Overview\n",
    "The Student Performance Dataset is a dataset designed to examine the factors influencing academic student performance. The dataset consists of 10,000 student records, with each record containing information about various predictors and a performance index.\n",
    "\n",
    "The dataset aims to provide insights into the relationship between the predictor variables and the performance index. Researchers and data analysts can use this dataset to explore the impact of studying hours, previous scores, extracurricular activities, sleep hours, and sample question papers on student performance."
   ]
  },
  {
   "cell_type": "markdown",
   "metadata": {},
   "source": [
    "## Dataset Attributes\n",
    "The dataset consists of 5 input features and one target variable:\n",
    "\n",
    "**Input Features:**\n",
    "- **Hours Studied:** The total number of hours spent studying by each student.\n",
    "- **Previous Scores:** The scores obtained by students in previous tests.\n",
    "- **Extracurricular Activities:** Whether the student participates in extracurricular activities (1 = Yes or 0 = No).\n",
    "- **Sleep Hours:** The average number of hours of sleep the student had per day.\n",
    "- **Sample Question Papers Practiced:** The number of sample question papers the student practiced.\n",
    "\n",
    "**Target Variable**\n",
    "- **Performance Index:** A measure of the overall performance of each student. The performance index represents the student's academic performance and has been rounded to the nearest integer. The index ranges from 10 to 100, with higher values indicating better performance.\n",
    "\n"
   ]
  },
  {
   "cell_type": "markdown",
   "metadata": {},
   "source": [
    "## Load the Data\n",
    "Load the provided Student Performance data in your Jupyter Notebook."
   ]
  },
  {
   "cell_type": "code",
   "execution_count": 139,
   "metadata": {},
   "outputs": [],
   "source": [
    "# Import necessary libraries\n",
    "import pandas as pd\n",
    "import matplotlib.pyplot as plt\n",
    "import numpy as np\n",
    "from sklearn.metrics import mean_squared_error, r2_score\n",
    "from sklearn.preprocessing import StandardScaler\n",
    "\n",
    "# Load the Student Performance Dataset\n",
    "data = pd.read_csv('./Student_Performance (1).csv')\n"
   ]
  },
  {
   "cell_type": "code",
   "execution_count": 140,
   "metadata": {},
   "outputs": [
    {
     "name": "stdout",
     "output_type": "stream",
     "text": [
      "<class 'pandas.core.frame.DataFrame'>\n",
      "RangeIndex: 10000 entries, 0 to 9999\n",
      "Data columns (total 6 columns):\n",
      " #   Column                            Non-Null Count  Dtype\n",
      "---  ------                            --------------  -----\n",
      " 0   Hours Studied                     10000 non-null  int64\n",
      " 1   Previous Scores                   10000 non-null  int64\n",
      " 2   Extracurricular Activities        10000 non-null  int64\n",
      " 3   Sleep Hours                       10000 non-null  int64\n",
      " 4   Sample Question Papers Practiced  10000 non-null  int64\n",
      " 5   Performance Index                 10000 non-null  int64\n",
      "dtypes: int64(6)\n",
      "memory usage: 468.9 KB\n"
     ]
    }
   ],
   "source": [
    "# Check the non-null count and the data types\n",
    "data.info()"
   ]
  },
  {
   "cell_type": "code",
   "execution_count": 141,
   "metadata": {},
   "outputs": [
    {
     "data": {
      "application/vnd.microsoft.datawrangler.viewer.v0+json": {
       "columns": [
        {
         "name": "index",
         "rawType": "object",
         "type": "string"
        },
        {
         "name": "Hours Studied",
         "rawType": "float64",
         "type": "float"
        },
        {
         "name": "Previous Scores",
         "rawType": "float64",
         "type": "float"
        },
        {
         "name": "Extracurricular Activities",
         "rawType": "float64",
         "type": "float"
        },
        {
         "name": "Sleep Hours",
         "rawType": "float64",
         "type": "float"
        },
        {
         "name": "Sample Question Papers Practiced",
         "rawType": "float64",
         "type": "float"
        },
        {
         "name": "Performance Index",
         "rawType": "float64",
         "type": "float"
        }
       ],
       "conversionMethod": "pd.DataFrame",
       "ref": "1e2a36cc-ed06-4824-8aa5-5cc63b84c264",
       "rows": [
        [
         "count",
         "10000.0",
         "10000.0",
         "10000.0",
         "10000.0",
         "10000.0",
         "10000.0"
        ],
        [
         "mean",
         "4.9929",
         "69.4457",
         "0.4948",
         "6.5306",
         "4.5833",
         "55.2248"
        ],
        [
         "std",
         "2.5893087961856156",
         "17.343152251047105",
         "0.4999979597918171",
         "1.6958629765177113",
         "2.867347777708144",
         "19.212557799463344"
        ],
        [
         "min",
         "1.0",
         "40.0",
         "0.0",
         "4.0",
         "0.0",
         "10.0"
        ],
        [
         "25%",
         "3.0",
         "54.0",
         "0.0",
         "5.0",
         "2.0",
         "40.0"
        ],
        [
         "50%",
         "5.0",
         "69.0",
         "0.0",
         "7.0",
         "5.0",
         "55.0"
        ],
        [
         "75%",
         "7.0",
         "85.0",
         "1.0",
         "8.0",
         "7.0",
         "71.0"
        ],
        [
         "max",
         "9.0",
         "99.0",
         "1.0",
         "9.0",
         "9.0",
         "100.0"
        ]
       ],
       "shape": {
        "columns": 6,
        "rows": 8
       }
      },
      "text/html": [
       "<div>\n",
       "<style scoped>\n",
       "    .dataframe tbody tr th:only-of-type {\n",
       "        vertical-align: middle;\n",
       "    }\n",
       "\n",
       "    .dataframe tbody tr th {\n",
       "        vertical-align: top;\n",
       "    }\n",
       "\n",
       "    .dataframe thead th {\n",
       "        text-align: right;\n",
       "    }\n",
       "</style>\n",
       "<table border=\"1\" class=\"dataframe\">\n",
       "  <thead>\n",
       "    <tr style=\"text-align: right;\">\n",
       "      <th></th>\n",
       "      <th>Hours Studied</th>\n",
       "      <th>Previous Scores</th>\n",
       "      <th>Extracurricular Activities</th>\n",
       "      <th>Sleep Hours</th>\n",
       "      <th>Sample Question Papers Practiced</th>\n",
       "      <th>Performance Index</th>\n",
       "    </tr>\n",
       "  </thead>\n",
       "  <tbody>\n",
       "    <tr>\n",
       "      <th>count</th>\n",
       "      <td>10000.000000</td>\n",
       "      <td>10000.000000</td>\n",
       "      <td>10000.000000</td>\n",
       "      <td>10000.000000</td>\n",
       "      <td>10000.000000</td>\n",
       "      <td>10000.000000</td>\n",
       "    </tr>\n",
       "    <tr>\n",
       "      <th>mean</th>\n",
       "      <td>4.992900</td>\n",
       "      <td>69.445700</td>\n",
       "      <td>0.494800</td>\n",
       "      <td>6.530600</td>\n",
       "      <td>4.583300</td>\n",
       "      <td>55.224800</td>\n",
       "    </tr>\n",
       "    <tr>\n",
       "      <th>std</th>\n",
       "      <td>2.589309</td>\n",
       "      <td>17.343152</td>\n",
       "      <td>0.499998</td>\n",
       "      <td>1.695863</td>\n",
       "      <td>2.867348</td>\n",
       "      <td>19.212558</td>\n",
       "    </tr>\n",
       "    <tr>\n",
       "      <th>min</th>\n",
       "      <td>1.000000</td>\n",
       "      <td>40.000000</td>\n",
       "      <td>0.000000</td>\n",
       "      <td>4.000000</td>\n",
       "      <td>0.000000</td>\n",
       "      <td>10.000000</td>\n",
       "    </tr>\n",
       "    <tr>\n",
       "      <th>25%</th>\n",
       "      <td>3.000000</td>\n",
       "      <td>54.000000</td>\n",
       "      <td>0.000000</td>\n",
       "      <td>5.000000</td>\n",
       "      <td>2.000000</td>\n",
       "      <td>40.000000</td>\n",
       "    </tr>\n",
       "    <tr>\n",
       "      <th>50%</th>\n",
       "      <td>5.000000</td>\n",
       "      <td>69.000000</td>\n",
       "      <td>0.000000</td>\n",
       "      <td>7.000000</td>\n",
       "      <td>5.000000</td>\n",
       "      <td>55.000000</td>\n",
       "    </tr>\n",
       "    <tr>\n",
       "      <th>75%</th>\n",
       "      <td>7.000000</td>\n",
       "      <td>85.000000</td>\n",
       "      <td>1.000000</td>\n",
       "      <td>8.000000</td>\n",
       "      <td>7.000000</td>\n",
       "      <td>71.000000</td>\n",
       "    </tr>\n",
       "    <tr>\n",
       "      <th>max</th>\n",
       "      <td>9.000000</td>\n",
       "      <td>99.000000</td>\n",
       "      <td>1.000000</td>\n",
       "      <td>9.000000</td>\n",
       "      <td>9.000000</td>\n",
       "      <td>100.000000</td>\n",
       "    </tr>\n",
       "  </tbody>\n",
       "</table>\n",
       "</div>"
      ],
      "text/plain": [
       "       Hours Studied  Previous Scores  Extracurricular Activities  \\\n",
       "count   10000.000000     10000.000000                10000.000000   \n",
       "mean        4.992900        69.445700                    0.494800   \n",
       "std         2.589309        17.343152                    0.499998   \n",
       "min         1.000000        40.000000                    0.000000   \n",
       "25%         3.000000        54.000000                    0.000000   \n",
       "50%         5.000000        69.000000                    0.000000   \n",
       "75%         7.000000        85.000000                    1.000000   \n",
       "max         9.000000        99.000000                    1.000000   \n",
       "\n",
       "        Sleep Hours  Sample Question Papers Practiced  Performance Index  \n",
       "count  10000.000000                      10000.000000       10000.000000  \n",
       "mean       6.530600                          4.583300          55.224800  \n",
       "std        1.695863                          2.867348          19.212558  \n",
       "min        4.000000                          0.000000          10.000000  \n",
       "25%        5.000000                          2.000000          40.000000  \n",
       "50%        7.000000                          5.000000          55.000000  \n",
       "75%        8.000000                          7.000000          71.000000  \n",
       "max        9.000000                          9.000000         100.000000  "
      ]
     },
     "execution_count": 141,
     "metadata": {},
     "output_type": "execute_result"
    }
   ],
   "source": [
    "# Examine the basic statistical information of the dataset\n",
    "data.describe()"
   ]
  },
  {
   "cell_type": "code",
   "execution_count": 142,
   "metadata": {},
   "outputs": [
    {
     "data": {
      "application/vnd.microsoft.datawrangler.viewer.v0+json": {
       "columns": [
        {
         "name": "index",
         "rawType": "int64",
         "type": "integer"
        },
        {
         "name": "Hours Studied",
         "rawType": "int64",
         "type": "integer"
        },
        {
         "name": "Previous Scores",
         "rawType": "int64",
         "type": "integer"
        },
        {
         "name": "Extracurricular Activities",
         "rawType": "int64",
         "type": "integer"
        },
        {
         "name": "Sleep Hours",
         "rawType": "int64",
         "type": "integer"
        },
        {
         "name": "Sample Question Papers Practiced",
         "rawType": "int64",
         "type": "integer"
        },
        {
         "name": "Performance Index",
         "rawType": "int64",
         "type": "integer"
        }
       ],
       "conversionMethod": "pd.DataFrame",
       "ref": "5cf9df75-79de-4fc5-b220-22bf26e40961",
       "rows": [
        [
         "0",
         "7",
         "99",
         "1",
         "9",
         "1",
         "91"
        ],
        [
         "1",
         "4",
         "82",
         "0",
         "4",
         "2",
         "65"
        ],
        [
         "2",
         "8",
         "51",
         "1",
         "7",
         "2",
         "45"
        ],
        [
         "3",
         "5",
         "52",
         "1",
         "5",
         "2",
         "36"
        ],
        [
         "4",
         "7",
         "75",
         "0",
         "8",
         "5",
         "66"
        ],
        [
         "9995",
         "1",
         "49",
         "1",
         "4",
         "2",
         "23"
        ],
        [
         "9996",
         "7",
         "64",
         "1",
         "8",
         "5",
         "58"
        ],
        [
         "9997",
         "6",
         "83",
         "1",
         "8",
         "5",
         "74"
        ],
        [
         "9998",
         "9",
         "97",
         "1",
         "7",
         "0",
         "95"
        ],
        [
         "9999",
         "7",
         "74",
         "0",
         "8",
         "1",
         "64"
        ]
       ],
       "shape": {
        "columns": 6,
        "rows": 10
       }
      },
      "text/html": [
       "<div>\n",
       "<style scoped>\n",
       "    .dataframe tbody tr th:only-of-type {\n",
       "        vertical-align: middle;\n",
       "    }\n",
       "\n",
       "    .dataframe tbody tr th {\n",
       "        vertical-align: top;\n",
       "    }\n",
       "\n",
       "    .dataframe thead th {\n",
       "        text-align: right;\n",
       "    }\n",
       "</style>\n",
       "<table border=\"1\" class=\"dataframe\">\n",
       "  <thead>\n",
       "    <tr style=\"text-align: right;\">\n",
       "      <th></th>\n",
       "      <th>Hours Studied</th>\n",
       "      <th>Previous Scores</th>\n",
       "      <th>Extracurricular Activities</th>\n",
       "      <th>Sleep Hours</th>\n",
       "      <th>Sample Question Papers Practiced</th>\n",
       "      <th>Performance Index</th>\n",
       "    </tr>\n",
       "  </thead>\n",
       "  <tbody>\n",
       "    <tr>\n",
       "      <th>0</th>\n",
       "      <td>7</td>\n",
       "      <td>99</td>\n",
       "      <td>1</td>\n",
       "      <td>9</td>\n",
       "      <td>1</td>\n",
       "      <td>91</td>\n",
       "    </tr>\n",
       "    <tr>\n",
       "      <th>1</th>\n",
       "      <td>4</td>\n",
       "      <td>82</td>\n",
       "      <td>0</td>\n",
       "      <td>4</td>\n",
       "      <td>2</td>\n",
       "      <td>65</td>\n",
       "    </tr>\n",
       "    <tr>\n",
       "      <th>2</th>\n",
       "      <td>8</td>\n",
       "      <td>51</td>\n",
       "      <td>1</td>\n",
       "      <td>7</td>\n",
       "      <td>2</td>\n",
       "      <td>45</td>\n",
       "    </tr>\n",
       "    <tr>\n",
       "      <th>3</th>\n",
       "      <td>5</td>\n",
       "      <td>52</td>\n",
       "      <td>1</td>\n",
       "      <td>5</td>\n",
       "      <td>2</td>\n",
       "      <td>36</td>\n",
       "    </tr>\n",
       "    <tr>\n",
       "      <th>4</th>\n",
       "      <td>7</td>\n",
       "      <td>75</td>\n",
       "      <td>0</td>\n",
       "      <td>8</td>\n",
       "      <td>5</td>\n",
       "      <td>66</td>\n",
       "    </tr>\n",
       "    <tr>\n",
       "      <th>9995</th>\n",
       "      <td>1</td>\n",
       "      <td>49</td>\n",
       "      <td>1</td>\n",
       "      <td>4</td>\n",
       "      <td>2</td>\n",
       "      <td>23</td>\n",
       "    </tr>\n",
       "    <tr>\n",
       "      <th>9996</th>\n",
       "      <td>7</td>\n",
       "      <td>64</td>\n",
       "      <td>1</td>\n",
       "      <td>8</td>\n",
       "      <td>5</td>\n",
       "      <td>58</td>\n",
       "    </tr>\n",
       "    <tr>\n",
       "      <th>9997</th>\n",
       "      <td>6</td>\n",
       "      <td>83</td>\n",
       "      <td>1</td>\n",
       "      <td>8</td>\n",
       "      <td>5</td>\n",
       "      <td>74</td>\n",
       "    </tr>\n",
       "    <tr>\n",
       "      <th>9998</th>\n",
       "      <td>9</td>\n",
       "      <td>97</td>\n",
       "      <td>1</td>\n",
       "      <td>7</td>\n",
       "      <td>0</td>\n",
       "      <td>95</td>\n",
       "    </tr>\n",
       "    <tr>\n",
       "      <th>9999</th>\n",
       "      <td>7</td>\n",
       "      <td>74</td>\n",
       "      <td>0</td>\n",
       "      <td>8</td>\n",
       "      <td>1</td>\n",
       "      <td>64</td>\n",
       "    </tr>\n",
       "  </tbody>\n",
       "</table>\n",
       "</div>"
      ],
      "text/plain": [
       "      Hours Studied  Previous Scores  Extracurricular Activities  Sleep Hours  \\\n",
       "0                 7               99                           1            9   \n",
       "1                 4               82                           0            4   \n",
       "2                 8               51                           1            7   \n",
       "3                 5               52                           1            5   \n",
       "4                 7               75                           0            8   \n",
       "9995              1               49                           1            4   \n",
       "9996              7               64                           1            8   \n",
       "9997              6               83                           1            8   \n",
       "9998              9               97                           1            7   \n",
       "9999              7               74                           0            8   \n",
       "\n",
       "      Sample Question Papers Practiced  Performance Index  \n",
       "0                                    1                 91  \n",
       "1                                    2                 65  \n",
       "2                                    2                 45  \n",
       "3                                    2                 36  \n",
       "4                                    5                 66  \n",
       "9995                                 2                 23  \n",
       "9996                                 5                 58  \n",
       "9997                                 5                 74  \n",
       "9998                                 0                 95  \n",
       "9999                                 1                 64  "
      ]
     },
     "execution_count": 142,
     "metadata": {},
     "output_type": "execute_result"
    }
   ],
   "source": [
    "# Display the top and bottom 5 rows of the dataset\n",
    "pd.concat([data.head(), data.tail()])"
   ]
  },
  {
   "cell_type": "code",
   "execution_count": 143,
   "metadata": {},
   "outputs": [],
   "source": [
    "# Extract the features and the target variable\n",
    "X = data[['Hours Studied', 'Previous Scores', 'Extracurricular Activities', 'Sleep Hours', 'Sample Question Papers Practiced']].values\n",
    "y = data['Performance Index'].values"
   ]
  },
  {
   "cell_type": "markdown",
   "metadata": {},
   "source": [
    "### Select a Unique Randomization Seed\n",
    "Select a unique integer that will serve as the seed for your randomization."
   ]
  },
  {
   "cell_type": "code",
   "execution_count": 144,
   "metadata": {},
   "outputs": [],
   "source": [
    "# Set a unique integer for the randomzied seed\n",
    "unique_seed = 42\n",
    "np.random.seed(unique_seed)"
   ]
  },
  {
   "cell_type": "markdown",
   "metadata": {},
   "source": [
    "### Sample Train Data\n",
    "Randomly sample a subset of the data using the seed you have selected; limit the sample to 30. Ensure that your sampled data is representative of the population."
   ]
  },
  {
   "cell_type": "code",
   "execution_count": 145,
   "metadata": {},
   "outputs": [],
   "source": [
    "# Sample the Student Performance data to 30 with the unique seed as the random state\n",
    "sampled_indices = np.random.choice(len(X), size=30, replace=False)\n",
    "X_train = X[sampled_indices]\n",
    "y_train = y[sampled_indices]"
   ]
  },
  {
   "cell_type": "markdown",
   "metadata": {},
   "source": [
    "### Weight Update Function\n",
    "Build a weight update function following the Gradient Descent concept."
   ]
  },
  {
   "cell_type": "code",
   "execution_count": 146,
   "metadata": {},
   "outputs": [
    {
     "name": "stdout",
     "output_type": "stream",
     "text": [
      "Iteration 0: Loss = 1552.1666666666667\n",
      "Iteration 500: Loss = 565.4473622605141\n",
      "Iteration 1000: Loss = 208.3357677410227\n",
      "Iteration 1500: Loss = 78.28256638650652\n",
      "Iteration 2000: Loss = 30.666659809341997\n",
      "Iteration 2500: Loss = 13.149238439189158\n",
      "Iteration 3000: Loss = 6.674934039885094\n",
      "Iteration 3500: Loss = 4.270756906330737\n",
      "Iteration 4000: Loss = 3.373427648879842\n",
      "Iteration 4500: Loss = 3.036591734537582\n"
     ]
    }
   ],
   "source": [
    "# Scale the data before applying gradient descent\n",
    "scaler = StandardScaler()\n",
    "X_train_scaled = scaler.fit_transform(X_train)\n",
    "\n",
    "# Implement gradient descent to find the optimal weights for linear regression.\n",
    "def gradient_descent(X, y, learning_rate, n_iterations):\n",
    "    n_samples, n_features = X.shape\n",
    "\n",
    "    # Initialize weights and bias to zeros, and store the weights history at each iteration\n",
    "    w = np.zeros(n_features)\n",
    "    b = 0\n",
    "    weights_history = []\n",
    "\n",
    "    for i in range(n_iterations):\n",
    "        # Calculate predictions using linear equation: y = Xw + b\n",
    "        y_pred = np.dot(X, w) + b \n",
    "\n",
    "        # Calculate the error\n",
    "        error = y_pred - y.flatten()\n",
    "\n",
    "        # Calculate the gradients\n",
    "        dw = (1/n_samples) * np.dot(X.T, error)\n",
    "        db = (1/n_samples) * np.sum(error)\n",
    "\n",
    "        # Update the weights and bias\n",
    "        w = w - learning_rate * dw\n",
    "        b = b - learning_rate * db\n",
    "\n",
    "        # Store a copy of the weights\n",
    "        weights_history.append(w.copy())\n",
    "\n",
    "        # Print the loss (MSE) for monitoring convergence\n",
    "        if i % 500 == 0:\n",
    "            loss = (1/(2*n_samples)) * np.sum(error**2)\n",
    "            print(f\"Iteration {i}: Loss = {loss}\")\n",
    "\n",
    "\n",
    "    return w, b, weights_history\n",
    "\n",
    "learning_rate = 0.001\n",
    "n_iterations = 5000\n",
    "\n",
    "w, b, weights_history = gradient_descent(X_train_scaled, y_train, learning_rate, n_iterations)"
   ]
  },
  {
   "cell_type": "markdown",
   "metadata": {},
   "source": [
    "### Display the Values of Weights\n",
    "Print the values of weights at each iteration separated by individual cell."
   ]
  },
  {
   "cell_type": "code",
   "execution_count": 147,
   "metadata": {},
   "outputs": [
    {
     "name": "stdout",
     "output_type": "stream",
     "text": [
      "Final Weights:\n",
      "                            Feature     Weight\n",
      "0                     Hours Studied   6.860363\n",
      "1                   Previous Scores  17.024243\n",
      "2        Extracurricular Activities   0.812760\n",
      "3                       Sleep Hours   0.727544\n",
      "4  Sample Question Papers Practiced   0.735835\n"
     ]
    }
   ],
   "source": [
    "# Put in a dataframe the values of weights of each feature and print\n",
    "feature_names = ['Hours Studied', 'Previous Scores', 'Extracurricular Activities', 'Sleep Hours', 'Sample Question Papers Practiced']\n",
    "\n",
    "print(\"Final Weights:\")\n",
    "weights_df = pd.DataFrame({'Feature': feature_names, 'Weight': w})\n",
    "print(weights_df)"
   ]
  },
  {
   "cell_type": "markdown",
   "metadata": {},
   "source": [
    "### Plot the Value of Weights\n",
    "Display a line chart showing the variation of weight values per iteration. Per each weight, show an individual line chart of values against iteration."
   ]
  },
  {
   "cell_type": "code",
   "execution_count": 148,
   "metadata": {},
   "outputs": [
    {
     "data": {
      "image/png": "[encoded data removed]",
      "text/plain": [
       "<Figure size 1000x600 with 1 Axes>"
      ]
     },
     "metadata": {},
     "output_type": "display_data"
    }
   ],
   "source": [
    "num_features = len(feature_names)\n",
    "iterations  = range(n_iterations)\n",
    "\n",
    "plt.figure(figsize=(10, 6))\n",
    "\n",
    "for j in range(num_features):\n",
    "    # Extract thje weight values for the j-th feature\n",
    "    weight_values = [weights[j] for weights in weights_history]\n",
    "\n",
    "    # Plots the weight values against the iteration\n",
    "    plt.plot(iterations, weight_values, label=feature_names[j])\n",
    "\n",
    "plt.xlabel(\"Iteration\")\n",
    "plt.ylabel(\"Weight Value\")\n",
    "plt.title(\"Weight Variation per Iteration\")\n",
    "plt.legend()\n",
    "plt.grid(True)\n",
    "plt.show()"
   ]
  },
  {
   "cell_type": "markdown",
   "metadata": {},
   "source": [
    "### Build a Function for the Final Regression Model\n",
    "Create a function using the final regression model after all your iterations. Display the mathematical expression with all the final weights values multiplied by the input variables."
   ]
  },
  {
   "cell_type": "code",
   "execution_count": 149,
   "metadata": {},
   "outputs": [],
   "source": [
    "def predict(X_new, w, b, scaler):\n",
    "    # Convert to NumPy Array if it is a dataframe\n",
    "    if isinstance(X_new, pd.DataFrame):\n",
    "        X_new = X_new.values\n",
    "\n",
    "    # Scale the new data using the scaler\n",
    "    X_new_scaled = scaler.transform(X_new)\n",
    "    y_pred = np.dot(X_new_scaled, w) + b\n",
    "\n",
    "    return y_pred\n",
    "\n",
    "# Display the mathematical expression of the linear regression model\n",
    "def display_equation(w, b, feature_names):\n",
    "    # Start the equation string\n",
    "    equation = \"Performance Index = \"\n",
    "\n",
    "    for i, (weight, feature) in enumerate(zip(w, feature_names)):\n",
    "        if i > 0:\n",
    "            equation += \" + \"\n",
    "        equation += f\"{weight:.4f} * {feature}\"\n",
    "\n",
    "    equation + f\" + {b:.4f}\"\n",
    "    print(\"Regression Equation:\")\n",
    "    print(equation)\n"
   ]
  },
  {
   "cell_type": "markdown",
   "metadata": {},
   "source": [
    "### Sample Test Data\n",
    "From the remainder of the original dataset, randomly sample another set of 30 observations NOT present in your training sample."
   ]
  },
  {
   "cell_type": "code",
   "execution_count": 150,
   "metadata": {},
   "outputs": [],
   "source": [
    "# Identify the remaining data\n",
    "remaining_mask = np.ones(len(X), dtype=bool)\n",
    "remaining_mask[sampled_indices] = False\n",
    "X_remaining = X[remaining_mask]\n",
    "y_remaining = y[remaining_mask]\n",
    "\n",
    "# New sample from remaining data\n",
    "np.random.seed(100)\n",
    "new_indices = np.random.choice(len(X_remaining), size=30, replace=False)\n",
    "X_test = X_remaining[new_indices]\n",
    "y_test = y_remaining[new_indices]"
   ]
  },
  {
   "cell_type": "markdown",
   "metadata": {},
   "source": [
    "### Use the Regression Function for Prediction\n",
    "Use your built linear regression function to predict for the Target Variable in your test set."
   ]
  },
  {
   "cell_type": "code",
   "execution_count": 151,
   "metadata": {},
   "outputs": [
    {
     "name": "stdout",
     "output_type": "stream",
     "text": [
      "Regression Equation:\n",
      "Performance Index = 6.8604 * Hours Studied + 17.0242 * Previous Scores + 0.8128 * Extracurricular Activities + 0.7275 * Sleep Hours + 0.7358 * Sample Question Papers Practiced\n"
     ]
    }
   ],
   "source": [
    "# Predict on the test set\n",
    "y_pred_test = predict(X_test, w, b, scaler)\n",
    "display_equation(w, b, feature_names)"
   ]
  },
  {
   "cell_type": "markdown",
   "metadata": {},
   "source": [
    "### Calculate for Errors\n",
    "Calculate for the overall error between your model’s prediction and the actual values in the test set."
   ]
  },
  {
   "cell_type": "code",
   "execution_count": 152,
   "metadata": {},
   "outputs": [
    {
     "name": "stdout",
     "output_type": "stream",
     "text": [
      "Test Loss (MSE): 6.820108110795457\n",
      "R-squared Score:  0.9845266763138986\n"
     ]
    }
   ],
   "source": [
    "# Evaluate the model on the test set\n",
    "test_loss = mean_squared_error(y_test, y_pred_test)\n",
    "rsquare = r2_score(y_test, y_pred_test)\n",
    "print(\"Test Loss (MSE):\", test_loss)\n",
    "print(\"R-squared Score: \", rsquare)"
   ]
  }
 ],
 "metadata": {
  "kernelspec": {
   "display_name": "Python 3",
   "language": "python",
   "name": "python3"
  },
  "language_info": {
   "codemirror_mode": {
    "name": "ipython",
    "version": 3
   },
   "file_extension": ".py",
   "mimetype": "text/x-python",
   "name": "python",
   "nbconvert_exporter": "python",
   "pygments_lexer": "ipython3",
   "version": "3.9.6"
  }
 },
 "nbformat": 4,
 "nbformat_minor": 2
}
